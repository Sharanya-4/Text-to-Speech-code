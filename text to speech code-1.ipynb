{
 "cells": [
  {
   "cell_type": "code",
   "execution_count": 1,
   "id": "ebcc2469",
   "metadata": {},
   "outputs": [
    {
     "name": "stdout",
     "output_type": "stream",
     "text": [
      "Requirement already satisfied: gtts in c:\\users\\sai\\anaconda3\\lib\\site-packages (2.2.3)\n",
      "Requirement already satisfied: requests in c:\\users\\sai\\anaconda3\\lib\\site-packages (from gtts) (2.25.1)\n",
      "Requirement already satisfied: click in c:\\users\\sai\\anaconda3\\lib\\site-packages (from gtts) (7.1.2)\n",
      "Note: you may need to restart the kernel to use updated packages.Requirement already satisfied: six in c:\\users\\sai\\anaconda3\\lib\\site-packages (from gtts) (1.15.0)\n",
      "\n",
      "Requirement already satisfied: idna<3,>=2.5 in c:\\users\\sai\\anaconda3\\lib\\site-packages (from requests->gtts) (2.10)\n",
      "Requirement already satisfied: certifi>=2017.4.17 in c:\\users\\sai\\anaconda3\\lib\\site-packages (from requests->gtts) (2020.12.5)\n",
      "Requirement already satisfied: chardet<5,>=3.0.2 in c:\\users\\sai\\anaconda3\\lib\\site-packages (from requests->gtts) (4.0.0)\n",
      "Requirement already satisfied: urllib3<1.27,>=1.21.1 in c:\\users\\sai\\anaconda3\\lib\\site-packages (from requests->gtts) (1.26.4)\n"
     ]
    }
   ],
   "source": [
    "pip install gtts"
   ]
  },
  {
   "cell_type": "code",
   "execution_count": 3,
   "id": "ca73d141",
   "metadata": {},
   "outputs": [
    {
     "name": "stdout",
     "output_type": "stream",
     "text": [
      "please wait...processing\n"
     ]
    },
    {
     "data": {
      "text/plain": [
       "0"
      ]
     },
     "execution_count": 3,
     "metadata": {},
     "output_type": "execute_result"
    }
   ],
   "source": [
    "import os\n",
    "from gtts import gTTS\n",
    "\n",
    "Text123 = \"Welcome to klu hyderabad \"\n",
    "\n",
    "print(\"please wait...processing\")\n",
    "TTS = gTTS(text=Text123, lang='en-uk')\n",
    "\n",
    
    "TTS.save(\"voice.mp3\")\n",
    "\n",
    "os.system(\"start voice.mp3\")"
   ]
  },
  {
   "cell_type": "code",
   "execution_count": null,
   "id": "0b345635",
   "metadata": {},
   "outputs": [],
   "source": []
  }
 ],
 "metadata": {
  "kernelspec": {
   "display_name": "Python 3",
   "language": "python",
   "name": "python3"
  },
  "language_info": {
   "codemirror_mode": {
    "name": "ipython",
    "version": 3
   },
   "file_extension": ".py",
   "mimetype": "text/x-python",
   "name": "python",
   "nbconvert_exporter": "python",
   "pygments_lexer": "ipython3",
   "version": "3.8.8"
  }
 },
 "nbformat": 4,
 "nbformat_minor": 5
}
